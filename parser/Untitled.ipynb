{
 "cells": [
  {
   "cell_type": "code",
   "execution_count": 1,
   "id": "04300103",
   "metadata": {},
   "outputs": [],
   "source": [
    "import scrape\n",
    "import globals"
   ]
  },
  {
   "cell_type": "code",
   "execution_count": 2,
   "id": "f211120f",
   "metadata": {},
   "outputs": [],
   "source": [
    "import bfs"
   ]
  },
  {
   "cell_type": "code",
   "execution_count": 3,
   "id": "b2c8b9fd",
   "metadata": {},
   "outputs": [],
   "source": [
    "url = 'https://imdb.com/name/nm0430107/'"
   ]
  },
  {
   "cell_type": "code",
   "execution_count": 6,
   "id": "aa915700",
   "metadata": {},
   "outputs": [],
   "source": [
    "from cycles import actor_cycle"
   ]
  },
  {
   "cell_type": "code",
   "execution_count": 3,
   "id": "acae5b48",
   "metadata": {},
   "outputs": [],
   "source": [
    "from bs4 import BeautifulSoup\n",
    "import requests\n",
    "from collections import deque"
   ]
  },
  {
   "cell_type": "code",
   "execution_count": 4,
   "id": "e950ef99",
   "metadata": {},
   "outputs": [],
   "source": [
    "act_q = deque()\n",
    "mov_q = deque()"
   ]
  },
  {
   "cell_type": "code",
   "execution_count": 4,
   "id": "90e83497",
   "metadata": {},
   "outputs": [
    {
     "data": {
      "text/plain": [
       "4"
      ]
     },
     "execution_count": 4,
     "metadata": {},
     "output_type": "execute_result"
    }
   ],
   "source": [
    "globals.cc"
   ]
  },
  {
   "cell_type": "code",
   "execution_count": 9,
   "id": "f327d0f9",
   "metadata": {},
   "outputs": [
    {
     "data": {
      "text/plain": [
       "<bound method Semaphore.release of <asyncio.locks.Semaphore object at 0x000001F1EC5E8BE0 [unlocked, value:2]>>"
      ]
     },
     "execution_count": 9,
     "metadata": {},
     "output_type": "execute_result"
    }
   ],
   "source": [
    "globals.sem.release"
   ]
  },
  {
   "cell_type": "code",
   "execution_count": null,
   "id": "84c9b803",
   "metadata": {},
   "outputs": [
    {
     "name": "stdout",
     "output_type": "stream",
     "text": [
      "actor cycle...\n",
      "batches in actor_q remaining:  0\n",
      "len of an act batch:  1\n"
     ]
    },
    {
     "name": "stderr",
     "output_type": "stream",
     "text": [
      "100%|███████████████████████████████████████████| 1/1 [00:12<00:00, 12.18s/it]\n"
     ]
    },
    {
     "name": "stdout",
     "output_type": "stream",
     "text": [
      "movie cycle...\n",
      "Initial movie_q len:  1\n",
      "batches in movie_q remaining:  0\n",
      "len of a mov batch:  24\n"
     ]
    },
    {
     "name": "stderr",
     "output_type": "stream",
     "text": [
      "100%|███████████████████████████████████████████| 1/1 [00:16<00:00, 16.68s/it]\n"
     ]
    },
    {
     "name": "stdout",
     "output_type": "stream",
     "text": [
      "actor cycle...\n",
      "batches in actor_q remaining:  0\n",
      "len of an act batch:  1748\n"
     ]
    },
    {
     "name": "stderr",
     "output_type": "stream",
     "text": [
      " 17%|███████                                   | 3/18 [03:06<14:42, 58.86s/it]"
     ]
    }
   ],
   "source": [
    "scrape.parse_imdb([url], cache=True, truncate=True)"
   ]
  },
  {
   "cell_type": "code",
   "execution_count": 5,
   "id": "be52d14a",
   "metadata": {},
   "outputs": [
    {
     "data": {
      "text/plain": [
       "set()"
      ]
     },
     "execution_count": 5,
     "metadata": {},
     "output_type": "execute_result"
    }
   ],
   "source": [
    "globals.actors_to_upload"
   ]
  },
  {
   "cell_type": "code",
   "execution_count": null,
   "id": "988b771c",
   "metadata": {},
   "outputs": [
    {
     "name": "stdout",
     "output_type": "stream",
     "text": [
      "restarting in mode:  a\n",
      "actor cycle...\n",
      "batches in actor_q remaining:  0\n",
      "len of an act batch:  1648\n"
     ]
    },
    {
     "name": "stderr",
     "output_type": "stream",
     "text": [
      "100%|█████████████████████████████████████████| 17/17 [07:17<00:00, 25.72s/it]\n"
     ]
    },
    {
     "name": "stdout",
     "output_type": "stream",
     "text": [
      "movie cycle...\n",
      "Initial movie_q len:  18\n",
      "batches in movie_q remaining:  17\n",
      "len of a mov batch:  992\n"
     ]
    },
    {
     "name": "stderr",
     "output_type": "stream",
     "text": [
      "  0%|                                                  | 0/10 [00:24<?, ?it/s]"
     ]
    },
    {
     "name": "stdout",
     "output_type": "stream",
     "text": [
      "oops\n",
      "len of outstanding movs:  913\n",
      "len of movie_q after insert:  18\n",
      "b\n",
      "Results saved to Cache\\02-Jun_00-20-41b\n",
      "00:20:41 - sleeping...\n"
     ]
    },
    {
     "name": "stderr",
     "output_type": "stream",
     "text": [
      "\n"
     ]
    },
    {
     "name": "stdout",
     "output_type": "stream",
     "text": [
      "restarting in mode:  b\n",
      "movie cycle...\n",
      "Initial movie_q len:  18\n",
      "batches in movie_q remaining:  17\n",
      "len of a mov batch:  913\n"
     ]
    },
    {
     "name": "stderr",
     "output_type": "stream",
     "text": [
      "  0%|                                                  | 0/10 [00:22<?, ?it/s]"
     ]
    },
    {
     "name": "stdout",
     "output_type": "stream",
     "text": [
      "oops\n",
      "len of outstanding movs:  829\n",
      "len of movie_q after insert:  18\n",
      "b\n",
      "Results saved to Cache\\02-Jun_00-35-13b\n",
      "00:35:13 - sleeping...\n"
     ]
    },
    {
     "name": "stderr",
     "output_type": "stream",
     "text": [
      "\n"
     ]
    },
    {
     "name": "stdout",
     "output_type": "stream",
     "text": [
      "restarting in mode:  b\n",
      "movie cycle...\n",
      "Initial movie_q len:  18\n",
      "batches in movie_q remaining:  17\n",
      "len of a mov batch:  829\n"
     ]
    },
    {
     "name": "stderr",
     "output_type": "stream",
     "text": [
      "  0%|                                                   | 0/9 [00:17<?, ?it/s]"
     ]
    },
    {
     "name": "stdout",
     "output_type": "stream",
     "text": [
      "oops\n",
      "len of outstanding movs:  772\n",
      "len of movie_q after insert:  18\n",
      "b\n",
      "Results saved to Cache\\02-Jun_00-49-41b\n",
      "00:49:41 - sleeping...\n"
     ]
    },
    {
     "name": "stderr",
     "output_type": "stream",
     "text": [
      "\n"
     ]
    },
    {
     "name": "stdout",
     "output_type": "stream",
     "text": [
      "restarting in mode:  b\n",
      "movie cycle...\n",
      "Initial movie_q len:  18\n",
      "batches in movie_q remaining:  17\n",
      "len of a mov batch:  772\n"
     ]
    },
    {
     "name": "stderr",
     "output_type": "stream",
     "text": [
      " 12%|█████▍                                     | 1/8 [00:25<02:57, 25.36s/it]"
     ]
    },
    {
     "name": "stdout",
     "output_type": "stream",
     "text": [
      "oops\n",
      "len of outstanding movs:  672\n",
      "len of movie_q after insert:  18\n",
      "b\n"
     ]
    },
    {
     "name": "stderr",
     "output_type": "stream",
     "text": [
      "\n"
     ]
    },
    {
     "name": "stdout",
     "output_type": "stream",
     "text": [
      "Results saved to Cache\\02-Jun_01-04-17b\n",
      "01:04:17 - sleeping...\n"
     ]
    }
   ],
   "source": [
    "bfs.restart_scraping(r'Cache\\01-Jun_23-59-18a')"
   ]
  },
  {
   "cell_type": "code",
   "execution_count": 9,
   "id": "f4c95c97",
   "metadata": {},
   "outputs": [],
   "source": [
    "act_q.append([url])"
   ]
  },
  {
   "cell_type": "code",
   "execution_count": 10,
   "id": "664afaed",
   "metadata": {},
   "outputs": [
    {
     "name": "stdout",
     "output_type": "stream",
     "text": [
      "batches in actor_q remaining:  0\n",
      "len of an act batch:  1\n"
     ]
    },
    {
     "name": "stderr",
     "output_type": "stream",
     "text": [
      "  0%|                                                   | 0/1 [00:00<?, ?it/s]C:\\Users\\glady\\projects\\My_project\\parser\\cycles.py:44: GuessedAtParserWarning: No parser was explicitly specified, so I'm using the best available HTML parser for this system (\"html.parser\"). This usually isn't a problem, but if you run this code on another system, or in a different virtual environment, it may use a different parser and behave differently.\n",
      "\n",
      "The code that caused this warning is on line 44 of the file C:\\Users\\glady\\projects\\My_project\\parser\\cycles.py. To get rid of this warning, pass the additional argument 'features=\"html.parser\"' to the BeautifulSoup constructor.\n",
      "\n",
      "  rels_update = [x for y in movies_to_check[:, 2] for x in y if x[1] not in globals.actor_visited]\n",
      "100%|███████████████████████████████████████████| 1/1 [00:07<00:00,  7.76s/it]\n"
     ]
    },
    {
     "data": {
      "text/plain": [
       "(deque([]),\n",
       " deque([array(['https://imdb.com/title/tt12263662/',\n",
       "               'https://imdb.com/title/tt1800246/',\n",
       "               'https://imdb.com/title/tt6017942/',\n",
       "               'https://imdb.com/title/tt11265752/',\n",
       "               'https://imdb.com/title/tt1825683/',\n",
       "               'https://imdb.com/title/tt7831044/',\n",
       "               'https://imdb.com/title/tt3554046/',\n",
       "               'https://imdb.com/title/tt11145118/',\n",
       "               'https://imdb.com/title/tt1706593/',\n",
       "               'https://imdb.com/title/tt0485985/',\n",
       "               'https://imdb.com/title/tt0180734/',\n",
       "               'https://imdb.com/title/tt0499097/',\n",
       "               'https://imdb.com/title/tt2334649/',\n",
       "               'https://imdb.com/title/tt1220633/',\n",
       "               'https://imdb.com/title/tt1404635/',\n",
       "               'https://imdb.com/title/tt0165643/',\n",
       "               'https://imdb.com/title/tt0360556/',\n",
       "               'https://imdb.com/title/tt1502712/',\n",
       "               'https://imdb.com/title/tt6343314/',\n",
       "               'https://imdb.com/title/tt4916630/',\n",
       "               'https://imdb.com/title/tt3076658/',\n",
       "               'https://imdb.com/title/tt2403883/',\n",
       "               'https://imdb.com/title/tt0822791/',\n",
       "               'https://imdb.com/title/tt0995854/'], dtype='<U34')]),\n",
       " 'b')"
      ]
     },
     "execution_count": 10,
     "metadata": {},
     "output_type": "execute_result"
    }
   ],
   "source": [
    "actor_cycle(act_q, mov_q, 100)"
   ]
  },
  {
   "cell_type": "code",
   "execution_count": 51,
   "id": "d13f0904",
   "metadata": {},
   "outputs": [
    {
     "name": "stdout",
     "output_type": "stream",
     "text": [
      "actor cycle...\n",
      "batches in actor_q remaining:  0\n",
      "len of a act batch:  1\n"
     ]
    },
    {
     "name": "stderr",
     "output_type": "stream",
     "text": [
      "0it [00:00, ?it/s]"
     ]
    },
    {
     "name": "stdout",
     "output_type": "stream",
     "text": [
      "movie cycle...\n",
      "Initial movie_q len:  0\n",
      "Parsing_finished\n"
     ]
    },
    {
     "name": "stderr",
     "output_type": "stream",
     "text": [
      "\n"
     ]
    }
   ],
   "source": [
    "scrape.parse_imdb(['https://imdb.com/name/nm0430107/'])"
   ]
  },
  {
   "cell_type": "code",
   "execution_count": 7,
   "id": "8bdcc59e",
   "metadata": {},
   "outputs": [
    {
     "data": {
      "text/plain": [
       "set()"
      ]
     },
     "execution_count": 7,
     "metadata": {},
     "output_type": "execute_result"
    }
   ],
   "source": [
    "globals.actor_visited"
   ]
  },
  {
   "cell_type": "code",
   "execution_count": 66,
   "id": "de5a8450",
   "metadata": {},
   "outputs": [
    {
     "data": {
      "text/plain": [
       "(deque([]), deque([]), 'b')"
      ]
     },
     "execution_count": 66,
     "metadata": {},
     "output_type": "execute_result"
    }
   ],
   "source": [
    "cycles.actor_cycle(act_q, mov_q, 0)"
   ]
  },
  {
   "cell_type": "code",
   "execution_count": 11,
   "id": "be28a337",
   "metadata": {},
   "outputs": [],
   "source": [
    "resp = requests.get(url)"
   ]
  },
  {
   "cell_type": "code",
   "execution_count": 12,
   "id": "3790a088",
   "metadata": {},
   "outputs": [],
   "source": [
    "soup = BeautifulSoup(resp.text)"
   ]
  },
  {
   "cell_type": "code",
   "execution_count": 7,
   "id": "8a2a0651",
   "metadata": {},
   "outputs": [
    {
     "data": {
      "text/plain": [
       "deque([['https://imdb.com/name/nm0430107/']])"
      ]
     },
     "execution_count": 7,
     "metadata": {},
     "output_type": "execute_result"
    }
   ],
   "source": [
    "act_q"
   ]
  },
  {
   "cell_type": "code",
   "execution_count": 40,
   "id": "a42c612a",
   "metadata": {},
   "outputs": [
    {
     "data": {
      "text/plain": [
       "1"
      ]
     },
     "execution_count": 40,
     "metadata": {},
     "output_type": "execute_result"
    }
   ],
   "source": [
    "import math\n",
    "math.ceil(1/100)"
   ]
  },
  {
   "cell_type": "code",
   "execution_count": null,
   "id": "5f04b746",
   "metadata": {},
   "outputs": [],
   "source": []
  }
 ],
 "metadata": {
  "kernelspec": {
   "display_name": "Python 3 (ipykernel)",
   "language": "python",
   "name": "python3"
  },
  "language_info": {
   "codemirror_mode": {
    "name": "ipython",
    "version": 3
   },
   "file_extension": ".py",
   "mimetype": "text/x-python",
   "name": "python",
   "nbconvert_exporter": "python",
   "pygments_lexer": "ipython3",
   "version": "3.7.0"
  }
 },
 "nbformat": 4,
 "nbformat_minor": 5
}
